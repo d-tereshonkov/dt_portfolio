{
 "cells": [
  {
   "cell_type": "markdown",
   "id": "413ae9b1",
   "metadata": {},
   "source": [
    "# <p style=\"text-align: center;\">Проект по SQL: Сервис для чтения книг</p>"
   ]
  },
  {
   "cell_type": "markdown",
   "id": "dbc2bc71",
   "metadata": {},
   "source": [
    "### Описание задачи SQL:\n",
    "Коронавирус застал мир врасплох, изменив привычный порядок вещей. В свободное время жители городов больше не выходят на улицу, не посещают кафе и торговые центры. Зато стало больше времени для книг. Это заметили стартаперы — и бросились создавать приложения для тех, кто любит читать.\n",
    "\n",
    "Ваша компания решила быть на волне и купила крупный сервис для чтения книг по подписке. Ваша первая задача как аналитика — проанализировать базу данных.\n",
    "В ней — информация о книгах, издательствах, авторах, а также пользовательские обзоры книг. Эти данные помогут сформулировать ценностное предложение для нового продукта."
   ]
  },
  {
   "cell_type": "markdown",
   "id": "c0fa3280",
   "metadata": {},
   "source": [
    "### Описание данных:\n",
    "Таблица books - Содержит данные о книгах:\n",
    "- book_id — идентификатор книги;\n",
    "- author_id — идентификатор автора;\n",
    "- title — название книги;\n",
    "- num_pages — количество страниц;\n",
    "- publication_date — дата публикации книги;\n",
    "- publisher_id — идентификатор издателя.\n",
    "\n",
    "Таблица authors - Содержит данные об авторах:\n",
    "- author_id — идентификатор автора;\n",
    "- author — имя автора.\n",
    "\n",
    "Таблица publishers - Содержит данные об издательствах:\n",
    "- publisher_id — идентификатор издательства;\n",
    "- publisher — название издательства.\n",
    "\n",
    "Таблица ratings - Содержит данные о пользовательских оценках книг:\n",
    "- rating_id — идентификатор оценки;\n",
    "- book_id — идентификатор книги;\n",
    "- username — имя пользователя, оставившего оценку;\n",
    "- rating — оценка книги.\n",
    "\n",
    "Таблица reviews - Содержит данные о пользовательских обзорах на книги:\n",
    "- review_id — идентификатор обзора;\n",
    "- book_id — идентификатор книги;\n",
    "- username — имя пользователя, написавшего обзор;\n",
    "- text — текст обзора.\n",
    "\n",
    "**ER-диаграмма:**\n",
    "- Структура данных БД\n",
    "\n",
    "![Изображение](https://2.downloader.disk.yandex.ru/preview/f18a76e943e2a5034b764c67d71438ed5dd9d53a0dee46535314c34e89154222/inf/AJISjF4h-BPUuZeyyyQZsDYA0hPpw8437gQdx0o8XGbiT5GuN_HjXhr7xaLd_PbhdU6GUWwiRbfDd1J6kRtp8Q%3D%3D?uid=375844755&filename=ER-dia.jpg&disposition=inline&hash=&limit=0&content_type=image%2Fjpeg&owner_uid=375844755&tknv=v2&size=910x942 \"ER-диаграмма\")"
   ]
  },
  {
   "cell_type": "markdown",
   "id": "18203f06",
   "metadata": {},
   "source": [
    "### Задачи:\n",
    "- Посчитаем, сколько книг вышло после 1 января 2000 года;\n",
    "- Для каждой книги посчитаем количество обзоров и среднюю оценку;\n",
    "- Определим издательство, которое выпустило наибольшее число книг толще 50 страниц  — так мы исключите из анализа брошюры;\n",
    "- Определим автора с самой высокой средней оценкой книг — учитывая только книги с 50 и более оценками;\n",
    "- Посчитаем среднее количество обзоров от пользователей, которые поставили больше 48 оценок.\n"
   ]
  },
  {
   "cell_type": "markdown",
   "id": "244247d8",
   "metadata": {},
   "source": [
    "### Подключение к базе данных"
   ]
  },
  {
   "cell_type": "code",
   "execution_count": 1,
   "id": "ec15586f",
   "metadata": {},
   "outputs": [
    {
     "name": "stdout",
     "output_type": "stream",
     "text": [
      "Collecting psycopg2\n",
      "  Downloading psycopg2-2.9.8-cp39-cp39-win_amd64.whl (1.2 MB)\n",
      "     ---------------------------------------- 0.0/1.2 MB ? eta -:--:--\n",
      "     ---------------------------------------- 0.0/1.2 MB ? eta -:--:--\n",
      "     - -------------------------------------- 0.0/1.2 MB ? eta -:--:--\n",
      "     - -------------------------------------- 0.0/1.2 MB ? eta -:--:--\n",
      "     -- ------------------------------------- 0.1/1.2 MB 907.3 kB/s eta 0:00:02\n",
      "     -- ------------------------------------- 0.1/1.2 MB 907.3 kB/s eta 0:00:02\n",
      "     ------ --------------------------------- 0.2/1.2 MB 1.2 MB/s eta 0:00:01\n",
      "     ----------- ---------------------------- 0.3/1.2 MB 1.4 MB/s eta 0:00:01\n",
      "     -------------- ------------------------- 0.4/1.2 MB 1.7 MB/s eta 0:00:01\n",
      "     ------------------------ --------------- 0.7/1.2 MB 2.2 MB/s eta 0:00:01\n",
      "     ------------------------------ --------- 0.9/1.2 MB 2.6 MB/s eta 0:00:01\n",
      "     ---------------------------------------  1.2/1.2 MB 2.8 MB/s eta 0:00:01\n",
      "     ---------------------------------------- 1.2/1.2 MB 2.5 MB/s eta 0:00:00\n",
      "Installing collected packages: psycopg2\n",
      "Successfully installed psycopg2-2.9.8\n"
     ]
    }
   ],
   "source": [
    "# установим драйвер PostgreSQL\n",
    "!pip install psycopg2"
   ]
  },
  {
   "cell_type": "code",
   "execution_count": 2,
   "id": "2bd18f63",
   "metadata": {
    "scrolled": true
   },
   "outputs": [],
   "source": [
    "# импортируем библиотеки\n",
    "import pandas as pd\n",
    "# Библиотека для выполнения запросов к БД\n",
    "import sqlalchemy as sa\n",
    "import psycopg2\n",
    "# устанавливаем параметры\n",
    "db_config = {\n",
    "'user': 'praktikum_student', # имя пользователя\n",
    "'pwd': 'Sdf4$2;d-d30pp', # пароль\n",
    "'host': 'rc1b-wcoijxj3yxfsf3fs.mdb.yandexcloud.net',\n",
    "'port': 6432, # порт подключения\n",
    "'db': 'data-analyst-final-project-db' # название базы данных\n",
    "}\n",
    "connection_string = 'postgresql://{user}:{pwd}@{host}:{port}/{db}'.format(**db_config)\n",
    "# сохраняем коннектор\n",
    "engine = sa.create_engine(connection_string, connect_args={'sslmode':'require'})\n",
    "# чтобы выполнить SQL-запрос, пишем функцию с использованием Pandas\n",
    "def get_sql_data(query:str, engine:sa.engine.base.Engine=engine) -> pd.DataFrame:\n",
    "#Открываем соединение, получаем данные из sql, закрываем соединение\n",
    "    with engine.connect() as con:\n",
    "        return pd.read_sql(sql=sa.text(query), con = con)"
   ]
  },
  {
   "cell_type": "markdown",
   "id": "681df7a1",
   "metadata": {},
   "source": [
    "### Исследование таблиц"
   ]
  },
  {
   "cell_type": "markdown",
   "id": "c93a32fc",
   "metadata": {},
   "source": [
    "Выведим первые строки, посчитайте количество строк в каждой таблице"
   ]
  },
  {
   "cell_type": "code",
   "execution_count": 3,
   "id": "5caecac6",
   "metadata": {},
   "outputs": [
    {
     "data": {
      "text/html": [
       "<div>\n",
       "<style scoped>\n",
       "    .dataframe tbody tr th:only-of-type {\n",
       "        vertical-align: middle;\n",
       "    }\n",
       "\n",
       "    .dataframe tbody tr th {\n",
       "        vertical-align: top;\n",
       "    }\n",
       "\n",
       "    .dataframe thead th {\n",
       "        text-align: right;\n",
       "    }\n",
       "</style>\n",
       "<table border=\"1\" class=\"dataframe\">\n",
       "  <thead>\n",
       "    <tr style=\"text-align: right;\">\n",
       "      <th></th>\n",
       "      <th>book_id</th>\n",
       "      <th>author_id</th>\n",
       "      <th>title</th>\n",
       "      <th>num_pages</th>\n",
       "      <th>publication_date</th>\n",
       "      <th>publisher_id</th>\n",
       "      <th>cnt_line</th>\n",
       "    </tr>\n",
       "  </thead>\n",
       "  <tbody>\n",
       "    <tr>\n",
       "      <th>0</th>\n",
       "      <td>1</td>\n",
       "      <td>546</td>\n",
       "      <td>'Salem's Lot</td>\n",
       "      <td>594</td>\n",
       "      <td>2005-11-01</td>\n",
       "      <td>93</td>\n",
       "      <td>1000</td>\n",
       "    </tr>\n",
       "  </tbody>\n",
       "</table>\n",
       "</div>"
      ],
      "text/plain": [
       "   book_id  author_id         title  num_pages publication_date  publisher_id  \\\n",
       "0        1        546  'Salem's Lot        594       2005-11-01            93   \n",
       "\n",
       "   cnt_line  \n",
       "0      1000  "
      ]
     },
     "execution_count": 3,
     "metadata": {},
     "output_type": "execute_result"
    }
   ],
   "source": [
    "# Посмотрим на таблицу с информацией о книгах\n",
    "# и подсчитаем кол-во строк в таблице используя для этого оконную функцию.\n",
    "# выведем первую строку для исседования столбцов\n",
    "query = '''\n",
    "           SELECT *, COUNT(book_id) OVER() cnt_line\n",
    "           FROM books\n",
    "           LIMIT 1;\n",
    "           '''\n",
    "get_sql_data(query)"
   ]
  },
  {
   "cell_type": "markdown",
   "id": "7dbb873f",
   "metadata": {},
   "source": [
    "В данной таблице с информацией о книгах всего 1000 строк."
   ]
  },
  {
   "cell_type": "code",
   "execution_count": 4,
   "id": "cc9a3650",
   "metadata": {},
   "outputs": [
    {
     "data": {
      "text/html": [
       "<div>\n",
       "<style scoped>\n",
       "    .dataframe tbody tr th:only-of-type {\n",
       "        vertical-align: middle;\n",
       "    }\n",
       "\n",
       "    .dataframe tbody tr th {\n",
       "        vertical-align: top;\n",
       "    }\n",
       "\n",
       "    .dataframe thead th {\n",
       "        text-align: right;\n",
       "    }\n",
       "</style>\n",
       "<table border=\"1\" class=\"dataframe\">\n",
       "  <thead>\n",
       "    <tr style=\"text-align: right;\">\n",
       "      <th></th>\n",
       "      <th>author_id</th>\n",
       "      <th>author</th>\n",
       "      <th>cnt_line</th>\n",
       "    </tr>\n",
       "  </thead>\n",
       "  <tbody>\n",
       "    <tr>\n",
       "      <th>0</th>\n",
       "      <td>1</td>\n",
       "      <td>A.S. Byatt</td>\n",
       "      <td>636</td>\n",
       "    </tr>\n",
       "  </tbody>\n",
       "</table>\n",
       "</div>"
      ],
      "text/plain": [
       "   author_id      author  cnt_line\n",
       "0          1  A.S. Byatt       636"
      ]
     },
     "execution_count": 4,
     "metadata": {},
     "output_type": "execute_result"
    }
   ],
   "source": [
    "# Посмотрим на таблицу с информацией о авторах и подсчитаем кол-во строк в таблице.\n",
    "query = '''\n",
    "           SELECT *, COUNT(author_id) OVER() cnt_line\n",
    "           FROM authors\n",
    "           LIMIT 1;\n",
    "           '''\n",
    "get_sql_data(query)"
   ]
  },
  {
   "cell_type": "markdown",
   "id": "a9c55f50",
   "metadata": {},
   "source": [
    "В данной таблице с информацией о авторах всего 636 строк."
   ]
  },
  {
   "cell_type": "code",
   "execution_count": 5,
   "id": "d68dbe8c",
   "metadata": {
    "scrolled": true
   },
   "outputs": [
    {
     "data": {
      "text/html": [
       "<div>\n",
       "<style scoped>\n",
       "    .dataframe tbody tr th:only-of-type {\n",
       "        vertical-align: middle;\n",
       "    }\n",
       "\n",
       "    .dataframe tbody tr th {\n",
       "        vertical-align: top;\n",
       "    }\n",
       "\n",
       "    .dataframe thead th {\n",
       "        text-align: right;\n",
       "    }\n",
       "</style>\n",
       "<table border=\"1\" class=\"dataframe\">\n",
       "  <thead>\n",
       "    <tr style=\"text-align: right;\">\n",
       "      <th></th>\n",
       "      <th>publisher_id</th>\n",
       "      <th>publisher</th>\n",
       "      <th>cnt_line</th>\n",
       "    </tr>\n",
       "  </thead>\n",
       "  <tbody>\n",
       "    <tr>\n",
       "      <th>0</th>\n",
       "      <td>1</td>\n",
       "      <td>Ace</td>\n",
       "      <td>340</td>\n",
       "    </tr>\n",
       "  </tbody>\n",
       "</table>\n",
       "</div>"
      ],
      "text/plain": [
       "   publisher_id publisher  cnt_line\n",
       "0             1       Ace       340"
      ]
     },
     "execution_count": 5,
     "metadata": {},
     "output_type": "execute_result"
    }
   ],
   "source": [
    "# Посмотрим на таблицу с информацией о издательствах и подсчитаем кол-во строк в таблице.\n",
    "query = '''\n",
    "           SELECT *, COUNT(publisher_id) OVER() cnt_line\n",
    "           FROM publishers\n",
    "           LIMIT 1;\n",
    "           '''\n",
    "get_sql_data(query)"
   ]
  },
  {
   "cell_type": "markdown",
   "id": "dcde14ce",
   "metadata": {},
   "source": [
    "В данной таблице с информацией о издательствах всего 340 строк."
   ]
  },
  {
   "cell_type": "code",
   "execution_count": 6,
   "id": "61fe8f20",
   "metadata": {},
   "outputs": [
    {
     "data": {
      "text/html": [
       "<div>\n",
       "<style scoped>\n",
       "    .dataframe tbody tr th:only-of-type {\n",
       "        vertical-align: middle;\n",
       "    }\n",
       "\n",
       "    .dataframe tbody tr th {\n",
       "        vertical-align: top;\n",
       "    }\n",
       "\n",
       "    .dataframe thead th {\n",
       "        text-align: right;\n",
       "    }\n",
       "</style>\n",
       "<table border=\"1\" class=\"dataframe\">\n",
       "  <thead>\n",
       "    <tr style=\"text-align: right;\">\n",
       "      <th></th>\n",
       "      <th>rating_id</th>\n",
       "      <th>book_id</th>\n",
       "      <th>username</th>\n",
       "      <th>rating</th>\n",
       "      <th>cnt_line</th>\n",
       "    </tr>\n",
       "  </thead>\n",
       "  <tbody>\n",
       "    <tr>\n",
       "      <th>0</th>\n",
       "      <td>1</td>\n",
       "      <td>1</td>\n",
       "      <td>ryanfranco</td>\n",
       "      <td>4</td>\n",
       "      <td>6456</td>\n",
       "    </tr>\n",
       "  </tbody>\n",
       "</table>\n",
       "</div>"
      ],
      "text/plain": [
       "   rating_id  book_id    username  rating  cnt_line\n",
       "0          1        1  ryanfranco       4      6456"
      ]
     },
     "execution_count": 6,
     "metadata": {},
     "output_type": "execute_result"
    }
   ],
   "source": [
    "# Посмотрим на таблицу с информацией о пользовательских оценках книг\n",
    "# и подсчитаем кол-во строк в таблице.\n",
    "query = '''\n",
    "           SELECT *, COUNT(rating_id) OVER() cnt_line\n",
    "           FROM ratings\n",
    "           LIMIT 1;\n",
    "           '''\n",
    "get_sql_data(query)"
   ]
  },
  {
   "cell_type": "markdown",
   "id": "bea516ea",
   "metadata": {},
   "source": [
    "В данной таблице с информацией о пользовательских оценках книг всего 6456 строк."
   ]
  },
  {
   "cell_type": "code",
   "execution_count": 7,
   "id": "ee4162be",
   "metadata": {},
   "outputs": [
    {
     "data": {
      "text/html": [
       "<div>\n",
       "<style scoped>\n",
       "    .dataframe tbody tr th:only-of-type {\n",
       "        vertical-align: middle;\n",
       "    }\n",
       "\n",
       "    .dataframe tbody tr th {\n",
       "        vertical-align: top;\n",
       "    }\n",
       "\n",
       "    .dataframe thead th {\n",
       "        text-align: right;\n",
       "    }\n",
       "</style>\n",
       "<table border=\"1\" class=\"dataframe\">\n",
       "  <thead>\n",
       "    <tr style=\"text-align: right;\">\n",
       "      <th></th>\n",
       "      <th>review_id</th>\n",
       "      <th>book_id</th>\n",
       "      <th>username</th>\n",
       "      <th>text</th>\n",
       "      <th>cnt_line</th>\n",
       "    </tr>\n",
       "  </thead>\n",
       "  <tbody>\n",
       "    <tr>\n",
       "      <th>0</th>\n",
       "      <td>1</td>\n",
       "      <td>1</td>\n",
       "      <td>brandtandrea</td>\n",
       "      <td>Mention society tell send professor analysis. ...</td>\n",
       "      <td>2793</td>\n",
       "    </tr>\n",
       "  </tbody>\n",
       "</table>\n",
       "</div>"
      ],
      "text/plain": [
       "   review_id  book_id      username  \\\n",
       "0          1        1  brandtandrea   \n",
       "\n",
       "                                                text  cnt_line  \n",
       "0  Mention society tell send professor analysis. ...      2793  "
      ]
     },
     "execution_count": 7,
     "metadata": {},
     "output_type": "execute_result"
    }
   ],
   "source": [
    "# Посмотрим на таблицу с информацией пользовательских обзорах на книги\n",
    "# и подсчитаем кол-во строк в таблице.\n",
    "query = '''\n",
    "           SELECT *, COUNT(review_id) OVER() cnt_line\n",
    "           FROM reviews\n",
    "           LIMIT 1;\n",
    "           '''\n",
    "get_sql_data(query)"
   ]
  },
  {
   "cell_type": "markdown",
   "id": "e6786380",
   "metadata": {},
   "source": [
    "В данной таблице с информацией пользовательских обзорах на книги всего 2793 строки."
   ]
  },
  {
   "cell_type": "markdown",
   "id": "04c1d6ab",
   "metadata": {},
   "source": [
    "### Решение задач:"
   ]
  },
  {
   "cell_type": "code",
   "execution_count": 8,
   "id": "6ddf7010",
   "metadata": {},
   "outputs": [
    {
     "data": {
      "text/html": [
       "<div>\n",
       "<style scoped>\n",
       "    .dataframe tbody tr th:only-of-type {\n",
       "        vertical-align: middle;\n",
       "    }\n",
       "\n",
       "    .dataframe tbody tr th {\n",
       "        vertical-align: top;\n",
       "    }\n",
       "\n",
       "    .dataframe thead th {\n",
       "        text-align: right;\n",
       "    }\n",
       "</style>\n",
       "<table border=\"1\" class=\"dataframe\">\n",
       "  <thead>\n",
       "    <tr style=\"text-align: right;\">\n",
       "      <th></th>\n",
       "      <th>cnt_books</th>\n",
       "    </tr>\n",
       "  </thead>\n",
       "  <tbody>\n",
       "    <tr>\n",
       "      <th>0</th>\n",
       "      <td>819</td>\n",
       "    </tr>\n",
       "  </tbody>\n",
       "</table>\n",
       "</div>"
      ],
      "text/plain": [
       "   cnt_books\n",
       "0        819"
      ]
     },
     "execution_count": 8,
     "metadata": {},
     "output_type": "execute_result"
    }
   ],
   "source": [
    "# Посчитайте, сколько книг вышло после 1 января 2000 года\n",
    "query = '''\n",
    "           SELECT COUNT(book_id) cnt_books\n",
    "           FROM books\n",
    "           WHERE publication_date > '2000-01-01'\n",
    "           '''\n",
    "get_sql_data(query)"
   ]
  },
  {
   "cell_type": "markdown",
   "id": "24cd6893",
   "metadata": {},
   "source": [
    "После 1 января 2000 года вышло 819 книг."
   ]
  },
  {
   "cell_type": "code",
   "execution_count": 9,
   "id": "2e871485",
   "metadata": {
    "scrolled": false
   },
   "outputs": [
    {
     "data": {
      "text/html": [
       "<div>\n",
       "<style scoped>\n",
       "    .dataframe tbody tr th:only-of-type {\n",
       "        vertical-align: middle;\n",
       "    }\n",
       "\n",
       "    .dataframe tbody tr th {\n",
       "        vertical-align: top;\n",
       "    }\n",
       "\n",
       "    .dataframe thead th {\n",
       "        text-align: right;\n",
       "    }\n",
       "</style>\n",
       "<table border=\"1\" class=\"dataframe\">\n",
       "  <thead>\n",
       "    <tr style=\"text-align: right;\">\n",
       "      <th></th>\n",
       "      <th>title</th>\n",
       "      <th>book_id</th>\n",
       "      <th>review</th>\n",
       "      <th>avg_rating</th>\n",
       "    </tr>\n",
       "  </thead>\n",
       "  <tbody>\n",
       "    <tr>\n",
       "      <th>0</th>\n",
       "      <td>The Natural Way to Draw</td>\n",
       "      <td>808</td>\n",
       "      <td>0</td>\n",
       "      <td>3.000000</td>\n",
       "    </tr>\n",
       "    <tr>\n",
       "      <th>1</th>\n",
       "      <td>Anne Rice's The Vampire Lestat: A Graphic Novel</td>\n",
       "      <td>83</td>\n",
       "      <td>0</td>\n",
       "      <td>3.666667</td>\n",
       "    </tr>\n",
       "    <tr>\n",
       "      <th>2</th>\n",
       "      <td>Leonardo's Notebooks</td>\n",
       "      <td>387</td>\n",
       "      <td>0</td>\n",
       "      <td>4.000000</td>\n",
       "    </tr>\n",
       "    <tr>\n",
       "      <th>3</th>\n",
       "      <td>Essential Tales and Poems</td>\n",
       "      <td>221</td>\n",
       "      <td>0</td>\n",
       "      <td>4.000000</td>\n",
       "    </tr>\n",
       "    <tr>\n",
       "      <th>4</th>\n",
       "      <td>Disney's Beauty and the Beast (A Little Golden...</td>\n",
       "      <td>191</td>\n",
       "      <td>0</td>\n",
       "      <td>4.000000</td>\n",
       "    </tr>\n",
       "    <tr>\n",
       "      <th>...</th>\n",
       "      <td>...</td>\n",
       "      <td>...</td>\n",
       "      <td>...</td>\n",
       "      <td>...</td>\n",
       "    </tr>\n",
       "    <tr>\n",
       "      <th>995</th>\n",
       "      <td>The Glass Castle</td>\n",
       "      <td>734</td>\n",
       "      <td>6</td>\n",
       "      <td>4.206897</td>\n",
       "    </tr>\n",
       "    <tr>\n",
       "      <th>996</th>\n",
       "      <td>The Book Thief</td>\n",
       "      <td>656</td>\n",
       "      <td>6</td>\n",
       "      <td>4.264151</td>\n",
       "    </tr>\n",
       "    <tr>\n",
       "      <th>997</th>\n",
       "      <td>Harry Potter and the Chamber of Secrets (Harry...</td>\n",
       "      <td>299</td>\n",
       "      <td>6</td>\n",
       "      <td>4.287500</td>\n",
       "    </tr>\n",
       "    <tr>\n",
       "      <th>998</th>\n",
       "      <td>Harry Potter and the Prisoner of Azkaban (Harr...</td>\n",
       "      <td>302</td>\n",
       "      <td>6</td>\n",
       "      <td>4.414634</td>\n",
       "    </tr>\n",
       "    <tr>\n",
       "      <th>999</th>\n",
       "      <td>Twilight (Twilight  #1)</td>\n",
       "      <td>948</td>\n",
       "      <td>7</td>\n",
       "      <td>3.662500</td>\n",
       "    </tr>\n",
       "  </tbody>\n",
       "</table>\n",
       "<p>1000 rows × 4 columns</p>\n",
       "</div>"
      ],
      "text/plain": [
       "                                                 title  book_id  review  \\\n",
       "0                              The Natural Way to Draw      808       0   \n",
       "1      Anne Rice's The Vampire Lestat: A Graphic Novel       83       0   \n",
       "2                                 Leonardo's Notebooks      387       0   \n",
       "3                            Essential Tales and Poems      221       0   \n",
       "4    Disney's Beauty and the Beast (A Little Golden...      191       0   \n",
       "..                                                 ...      ...     ...   \n",
       "995                                   The Glass Castle      734       6   \n",
       "996                                     The Book Thief      656       6   \n",
       "997  Harry Potter and the Chamber of Secrets (Harry...      299       6   \n",
       "998  Harry Potter and the Prisoner of Azkaban (Harr...      302       6   \n",
       "999                            Twilight (Twilight  #1)      948       7   \n",
       "\n",
       "     avg_rating  \n",
       "0      3.000000  \n",
       "1      3.666667  \n",
       "2      4.000000  \n",
       "3      4.000000  \n",
       "4      4.000000  \n",
       "..          ...  \n",
       "995    4.206897  \n",
       "996    4.264151  \n",
       "997    4.287500  \n",
       "998    4.414634  \n",
       "999    3.662500  \n",
       "\n",
       "[1000 rows x 4 columns]"
      ]
     },
     "execution_count": 9,
     "metadata": {},
     "output_type": "execute_result"
    }
   ],
   "source": [
    "# Для каждой книги посчитаем количество обзоров и среднюю оценку;\n",
    "# Для подсчета кол-ва обзоров и средней оценки нужно выполнить соединение трех таблиц по ключу\n",
    "# группируем по названию книги и используем функции агрегации к нужным столбцам.\n",
    "# Так как есть обзоры разных авторов,\n",
    "# то нужны уникальные  идентификаторы обзора используем distinct при подсчете кол-ва обзоров на книгу\n",
    "query = '''\n",
    "           SELECT b.title,\n",
    "                  b.book_id,\n",
    "                  COUNT(DISTINCT rw.review_id) review,\n",
    "                  AVG(rt.rating) avg_rating\n",
    "           FROM books b JOIN ratings rt\n",
    "           ON b.book_id = rt.book_id\n",
    "           LEFT JOIN reviews rw\n",
    "           ON b.book_id = rw.book_id\n",
    "           GROUP BY b.title, b.book_id\n",
    "           ORDER BY review, avg_rating\n",
    "           '''\n",
    "get_sql_data(query)\n",
    "# Отсортировал по кол-ву обзоров и рейтингу для наглядности."
   ]
  },
  {
   "cell_type": "markdown",
   "id": "c5f17fa0",
   "metadata": {},
   "source": [
    "В данных имеются книги, которые не имеют обзоров, но при этом есть рейтинг, при подсчете кол-ва обзоров на книгу брали уникальных авторов обзоров, также подсчитали средние оценки для каждой книги."
   ]
  },
  {
   "cell_type": "code",
   "execution_count": 10,
   "id": "141011bf",
   "metadata": {},
   "outputs": [
    {
     "data": {
      "text/html": [
       "<div>\n",
       "<style scoped>\n",
       "    .dataframe tbody tr th:only-of-type {\n",
       "        vertical-align: middle;\n",
       "    }\n",
       "\n",
       "    .dataframe tbody tr th {\n",
       "        vertical-align: top;\n",
       "    }\n",
       "\n",
       "    .dataframe thead th {\n",
       "        text-align: right;\n",
       "    }\n",
       "</style>\n",
       "<table border=\"1\" class=\"dataframe\">\n",
       "  <thead>\n",
       "    <tr style=\"text-align: right;\">\n",
       "      <th></th>\n",
       "      <th>title</th>\n",
       "      <th>count</th>\n",
       "    </tr>\n",
       "  </thead>\n",
       "  <tbody>\n",
       "    <tr>\n",
       "      <th>0</th>\n",
       "      <td>Memoirs of a Geisha</td>\n",
       "      <td>2</td>\n",
       "    </tr>\n",
       "  </tbody>\n",
       "</table>\n",
       "</div>"
      ],
      "text/plain": [
       "                 title  count\n",
       "0  Memoirs of a Geisha      2"
      ]
     },
     "execution_count": 10,
     "metadata": {},
     "output_type": "execute_result"
    }
   ],
   "source": [
    "# Данная книга имеет дубликат в данных\n",
    "query = '''\n",
    "           SELECT title, COUNT(title)\n",
    "           FROM books \n",
    "           GROUP BY title\n",
    "           HAVING COUNT(title) > 1\n",
    "           '''\n",
    "get_sql_data(query)"
   ]
  },
  {
   "cell_type": "markdown",
   "id": "07c9c895",
   "metadata": {},
   "source": [
    "У книги 'Memoirs of a Geisha' в данных имеется дубликат. Выясним почему."
   ]
  },
  {
   "cell_type": "code",
   "execution_count": 11,
   "id": "6aba78de",
   "metadata": {},
   "outputs": [
    {
     "data": {
      "text/html": [
       "<div>\n",
       "<style scoped>\n",
       "    .dataframe tbody tr th:only-of-type {\n",
       "        vertical-align: middle;\n",
       "    }\n",
       "\n",
       "    .dataframe tbody tr th {\n",
       "        vertical-align: top;\n",
       "    }\n",
       "\n",
       "    .dataframe thead th {\n",
       "        text-align: right;\n",
       "    }\n",
       "</style>\n",
       "<table border=\"1\" class=\"dataframe\">\n",
       "  <thead>\n",
       "    <tr style=\"text-align: right;\">\n",
       "      <th></th>\n",
       "      <th>title</th>\n",
       "      <th>book_id</th>\n",
       "      <th>publisher</th>\n",
       "      <th>review</th>\n",
       "      <th>avg_rating</th>\n",
       "    </tr>\n",
       "  </thead>\n",
       "  <tbody>\n",
       "    <tr>\n",
       "      <th>0</th>\n",
       "      <td>Memoirs of a Geisha</td>\n",
       "      <td>427</td>\n",
       "      <td>Vintage Books USA</td>\n",
       "      <td>3</td>\n",
       "      <td>3.700000</td>\n",
       "    </tr>\n",
       "    <tr>\n",
       "      <th>1</th>\n",
       "      <td>Memoirs of a Geisha</td>\n",
       "      <td>426</td>\n",
       "      <td>Random House Large Print Publishing</td>\n",
       "      <td>5</td>\n",
       "      <td>4.195652</td>\n",
       "    </tr>\n",
       "  </tbody>\n",
       "</table>\n",
       "</div>"
      ],
      "text/plain": [
       "                 title  book_id                            publisher  review  \\\n",
       "0  Memoirs of a Geisha      427                    Vintage Books USA       3   \n",
       "1  Memoirs of a Geisha      426  Random House Large Print Publishing       5   \n",
       "\n",
       "   avg_rating  \n",
       "0    3.700000  \n",
       "1    4.195652  "
      ]
     },
     "execution_count": 11,
     "metadata": {},
     "output_type": "execute_result"
    }
   ],
   "source": [
    "# Отобразим издательства\n",
    "query = '''\n",
    "           SELECT b.title,\n",
    "                  b.book_id,\n",
    "                  p.publisher,\n",
    "                  COUNT(DISTINCT rw.review_id) review,\n",
    "                  AVG(rt.rating) avg_rating\n",
    "           FROM books b JOIN ratings rt\n",
    "           ON b.book_id = rt.book_id\n",
    "           LEFT JOIN reviews rw\n",
    "           ON b.book_id = rw.book_id\n",
    "           JOIN publishers p\n",
    "           ON b.publisher_id = p.publisher_id\n",
    "           WHERE b.title LIKE '%Memoirs of a Geisha%'\n",
    "           GROUP BY b.title, b.book_id, p.publisher\n",
    "           ORDER BY review, avg_rating\n",
    "           '''\n",
    "get_sql_data(query)"
   ]
  },
  {
   "cell_type": "markdown",
   "id": "0588d2eb",
   "metadata": {},
   "source": [
    "Видим, что у данная книга выпускалась под двумя разными издательствами."
   ]
  },
  {
   "cell_type": "code",
   "execution_count": 12,
   "id": "6577394d",
   "metadata": {},
   "outputs": [
    {
     "data": {
      "text/html": [
       "<div>\n",
       "<style scoped>\n",
       "    .dataframe tbody tr th:only-of-type {\n",
       "        vertical-align: middle;\n",
       "    }\n",
       "\n",
       "    .dataframe tbody tr th {\n",
       "        vertical-align: top;\n",
       "    }\n",
       "\n",
       "    .dataframe thead th {\n",
       "        text-align: right;\n",
       "    }\n",
       "</style>\n",
       "<table border=\"1\" class=\"dataframe\">\n",
       "  <thead>\n",
       "    <tr style=\"text-align: right;\">\n",
       "      <th></th>\n",
       "      <th>cnt_books</th>\n",
       "      <th>publisher</th>\n",
       "    </tr>\n",
       "  </thead>\n",
       "  <tbody>\n",
       "    <tr>\n",
       "      <th>0</th>\n",
       "      <td>42</td>\n",
       "      <td>Penguin Books</td>\n",
       "    </tr>\n",
       "  </tbody>\n",
       "</table>\n",
       "</div>"
      ],
      "text/plain": [
       "   cnt_books      publisher\n",
       "0         42  Penguin Books"
      ]
     },
     "execution_count": 12,
     "metadata": {},
     "output_type": "execute_result"
    }
   ],
   "source": [
    "# Определите издательство, которое выпустило наибольшее число книг толще\n",
    "# 50 страниц — так вы исключите из анализа брошюры\n",
    "# Соединим таблицу с книгами и издательствами и\n",
    "# зададим условие, где число страниц больше 50 и подсчитаем число книг сруппированные по издательству,\n",
    "# выполним сортировку по убыванию и выберим первое значение.\n",
    "query = '''\n",
    "           SELECT COUNT(book_id) cnt_books, \n",
    "                  pb.publisher\n",
    "           FROM books b JOIN publishers pb\n",
    "           ON b.publisher_id = pb.publisher_id \n",
    "           WHERE num_pages > 50\n",
    "           GROUP BY pb.publisher\n",
    "           ORDER BY cnt_books DESC\n",
    "           LIMIT 1;\n",
    "           '''\n",
    "get_sql_data(query)"
   ]
  },
  {
   "cell_type": "markdown",
   "id": "a5ee95f7",
   "metadata": {},
   "source": [
    "Издательство выпустившее наибольшее число книг толщиной более 50 страниц является 'Penguin Books'."
   ]
  },
  {
   "cell_type": "code",
   "execution_count": 13,
   "id": "48225cef",
   "metadata": {
    "scrolled": true
   },
   "outputs": [
    {
     "data": {
      "text/html": [
       "<div>\n",
       "<style scoped>\n",
       "    .dataframe tbody tr th:only-of-type {\n",
       "        vertical-align: middle;\n",
       "    }\n",
       "\n",
       "    .dataframe tbody tr th {\n",
       "        vertical-align: top;\n",
       "    }\n",
       "\n",
       "    .dataframe thead th {\n",
       "        text-align: right;\n",
       "    }\n",
       "</style>\n",
       "<table border=\"1\" class=\"dataframe\">\n",
       "  <thead>\n",
       "    <tr style=\"text-align: right;\">\n",
       "      <th></th>\n",
       "      <th>author</th>\n",
       "      <th>rating</th>\n",
       "    </tr>\n",
       "  </thead>\n",
       "  <tbody>\n",
       "    <tr>\n",
       "      <th>0</th>\n",
       "      <td>J.K. Rowling/Mary GrandPré</td>\n",
       "      <td>4.287097</td>\n",
       "    </tr>\n",
       "  </tbody>\n",
       "</table>\n",
       "</div>"
      ],
      "text/plain": [
       "                       author    rating\n",
       "0  J.K. Rowling/Mary GrandPré  4.287097"
      ]
     },
     "execution_count": 13,
     "metadata": {},
     "output_type": "execute_result"
    }
   ],
   "source": [
    "# Определите автора с самой высокой средней оценкой книг - учитываем только книги с 50 и более оценками;\n",
    "# Выполним соединение трех таблиц (книги, авторы, рейтинги),\n",
    "# в условии отберем те книги, которые с 50 и более оценками (подзапросом),\n",
    "# в основном запросе сгруппируем средние оценки по авторам и отсортируем  по убыванию,\n",
    "# выберем первую строку отражающую автора с самой высокой средней оценкой.\n",
    "query = '''\n",
    "           SELECT a.author, AVG(rating) rating\n",
    "           FROM books b JOIN authors a\n",
    "           ON b.author_id = a.author_id\n",
    "           JOIN ratings rt \n",
    "           ON b.book_id = rt.book_id\n",
    "           WHERE b.book_id IN (SELECT book_id\n",
    "                               FROM ratings\n",
    "                               GROUP BY book_id\n",
    "                               HAVING COUNT(rating_id) >= 50)\n",
    "           GROUP BY a.author\n",
    "           ORDER BY rating DESC\n",
    "           LIMIT 1\n",
    "           '''\n",
    "get_sql_data(query)"
   ]
  },
  {
   "cell_type": "markdown",
   "id": "7498a933",
   "metadata": {},
   "source": [
    "Автор с самой высокой средней оценкой книг является - 'J.K. Rowling/Mary GrandPré'."
   ]
  },
  {
   "cell_type": "code",
   "execution_count": 14,
   "id": "dd24771c",
   "metadata": {},
   "outputs": [
    {
     "data": {
      "text/html": [
       "<div>\n",
       "<style scoped>\n",
       "    .dataframe tbody tr th:only-of-type {\n",
       "        vertical-align: middle;\n",
       "    }\n",
       "\n",
       "    .dataframe tbody tr th {\n",
       "        vertical-align: top;\n",
       "    }\n",
       "\n",
       "    .dataframe thead th {\n",
       "        text-align: right;\n",
       "    }\n",
       "</style>\n",
       "<table border=\"1\" class=\"dataframe\">\n",
       "  <thead>\n",
       "    <tr style=\"text-align: right;\">\n",
       "      <th></th>\n",
       "      <th>avg_cnt_review</th>\n",
       "    </tr>\n",
       "  </thead>\n",
       "  <tbody>\n",
       "    <tr>\n",
       "      <th>0</th>\n",
       "      <td>24.0</td>\n",
       "    </tr>\n",
       "  </tbody>\n",
       "</table>\n",
       "</div>"
      ],
      "text/plain": [
       "   avg_cnt_review\n",
       "0            24.0"
      ]
     },
     "execution_count": 14,
     "metadata": {},
     "output_type": "execute_result"
    }
   ],
   "source": [
    "# Посчитайте среднее количество обзоров от пользователей, которые поставили больше 48 оценок.\n",
    "query = '''\n",
    "            SELECT AVG(x.review) avg_cnt_review\n",
    "            FROM (SELECT COUNT(review_id) review\n",
    "                  FROM reviews\n",
    "                  WHERE username IN (SELECT username\n",
    "                                     FROM ratings\n",
    "                                     GROUP BY username\n",
    "                                     HAVING COUNT(rating) > 48)\n",
    "                  GROUP BY username\n",
    "                  ) x\n",
    "           \n",
    "        '''\n",
    "get_sql_data(query)"
   ]
  },
  {
   "cell_type": "markdown",
   "id": "43216a97",
   "metadata": {},
   "source": [
    "Среднее количество обзоров от пользователей, которые поставили\n",
    "больше 48 оценок в среднем равно 24 обзорам."
   ]
  },
  {
   "cell_type": "markdown",
   "id": "be586cb6",
   "metadata": {},
   "source": [
    "### Вывод:"
   ]
  },
  {
   "cell_type": "markdown",
   "id": "a97cd3bc",
   "metadata": {},
   "source": [
    "Проанализировав базу данных сервиса для чтения книг определили:\n",
    "\n",
    "    - После 1 января 2000 года вышло 819 книга;\n",
    "    - Количество обзоров и среднюю оценку для каждой книги;\n",
    "    - Нашли книгу под двумя разными издательствами;\n",
    "    - Издательство выпустившее наибольшее число книг толщиной более 50 страниц, которая является 'Penguin Books';\n",
    "    - Автора с самой высокой средней оценкой книг - 'J.K. Rowling/Mary GrandPré';\n",
    "    - Что в среднем 24 обзора от пользователей, которые поставили больше 48 оценок. Стоит обратить на это внимание, нужно ввести поощрение пользователям, которые оставляют рецензии.\n",
    "Рекомендации:\n",
    "\n",
    "- Продвигать новые книги, выпущенные после 1 января 2000 года: Это позволит удовлетворить интересы пользователей к современной литературе и обеспечить им актуальные книги.\n",
    "- Книги, выпущенные под разными издательствами, возможно, это связанно с дизайном книги или ее качеством, переводами или другими факторами, которые могут быть интересны пользователям."
   ]
  }
 ],
 "metadata": {
  "kernelspec": {
   "display_name": "Python 3 (ipykernel)",
   "language": "python",
   "name": "python3"
  },
  "language_info": {
   "codemirror_mode": {
    "name": "ipython",
    "version": 3
   },
   "file_extension": ".py",
   "mimetype": "text/x-python",
   "name": "python",
   "nbconvert_exporter": "python",
   "pygments_lexer": "ipython3",
   "version": "3.9.16"
  }
 },
 "nbformat": 4,
 "nbformat_minor": 5
}
